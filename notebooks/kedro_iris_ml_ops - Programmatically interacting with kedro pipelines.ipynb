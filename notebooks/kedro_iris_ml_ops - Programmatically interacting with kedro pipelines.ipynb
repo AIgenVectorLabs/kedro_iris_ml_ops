{
 "cells": [
  {
   "cell_type": "markdown",
   "id": "207a9878",
   "metadata": {},
   "source": [
    "# Project: kedro_iris_ml_ops\n",
    "\n",
    "### Author: Dale Jacques\n",
    "### Contact: djacques@uwalumni.com\n",
    "### Repository: https://github.com/AIgenVectorLabs/kedro_iris_ml_ops\n",
    "#### Description: This notebook demonstrates concepts like the Kedro \"Session\", \"Context\", and \"Catalog\" that will be required when deploying our model into production. Specifically, it shows how a Kedro pipeline can be parameterized, run, and results can be extracted. "
   ]
  },
  {
   "cell_type": "code",
   "execution_count": 5,
   "id": "0a6bdcdd",
   "metadata": {},
   "outputs": [
    {
     "name": "stdout",
     "output_type": "stream",
     "text": [
      "2021-08-08 15:01:43,454 - kedro.io.data_catalog - INFO - Loading data from `example_iris_data` (CSVDataSet)...\n"
     ]
    },
    {
     "name": "stderr",
     "output_type": "stream",
     "text": [
      "/Users/djacques/miniconda3/envs/kedro_iris_ml_ops/lib/python3.8/site-packages/kedro/framework/context/context.py:59: DeprecationWarning: Accessing io via the context will be deprecated in Kedro 0.18.0.\n",
      "  warn(\n"
     ]
    },
    {
     "data": {
      "text/html": [
       "<div>\n",
       "<style scoped>\n",
       "    .dataframe tbody tr th:only-of-type {\n",
       "        vertical-align: middle;\n",
       "    }\n",
       "\n",
       "    .dataframe tbody tr th {\n",
       "        vertical-align: top;\n",
       "    }\n",
       "\n",
       "    .dataframe thead th {\n",
       "        text-align: right;\n",
       "    }\n",
       "</style>\n",
       "<table border=\"1\" class=\"dataframe\">\n",
       "  <thead>\n",
       "    <tr style=\"text-align: right;\">\n",
       "      <th></th>\n",
       "      <th>sepal_length</th>\n",
       "      <th>sepal_width</th>\n",
       "      <th>petal_length</th>\n",
       "      <th>petal_width</th>\n",
       "      <th>species</th>\n",
       "    </tr>\n",
       "  </thead>\n",
       "  <tbody>\n",
       "    <tr>\n",
       "      <th>0</th>\n",
       "      <td>5.1</td>\n",
       "      <td>3.5</td>\n",
       "      <td>1.4</td>\n",
       "      <td>0.2</td>\n",
       "      <td>setosa</td>\n",
       "    </tr>\n",
       "    <tr>\n",
       "      <th>1</th>\n",
       "      <td>4.9</td>\n",
       "      <td>3.0</td>\n",
       "      <td>1.4</td>\n",
       "      <td>0.2</td>\n",
       "      <td>setosa</td>\n",
       "    </tr>\n",
       "    <tr>\n",
       "      <th>2</th>\n",
       "      <td>4.7</td>\n",
       "      <td>3.2</td>\n",
       "      <td>1.3</td>\n",
       "      <td>0.2</td>\n",
       "      <td>setosa</td>\n",
       "    </tr>\n",
       "    <tr>\n",
       "      <th>3</th>\n",
       "      <td>4.6</td>\n",
       "      <td>3.1</td>\n",
       "      <td>1.5</td>\n",
       "      <td>0.2</td>\n",
       "      <td>setosa</td>\n",
       "    </tr>\n",
       "    <tr>\n",
       "      <th>4</th>\n",
       "      <td>5.0</td>\n",
       "      <td>3.6</td>\n",
       "      <td>1.4</td>\n",
       "      <td>0.2</td>\n",
       "      <td>setosa</td>\n",
       "    </tr>\n",
       "    <tr>\n",
       "      <th>...</th>\n",
       "      <td>...</td>\n",
       "      <td>...</td>\n",
       "      <td>...</td>\n",
       "      <td>...</td>\n",
       "      <td>...</td>\n",
       "    </tr>\n",
       "    <tr>\n",
       "      <th>145</th>\n",
       "      <td>6.7</td>\n",
       "      <td>3.0</td>\n",
       "      <td>5.2</td>\n",
       "      <td>2.3</td>\n",
       "      <td>virginica</td>\n",
       "    </tr>\n",
       "    <tr>\n",
       "      <th>146</th>\n",
       "      <td>6.3</td>\n",
       "      <td>2.5</td>\n",
       "      <td>5.0</td>\n",
       "      <td>1.9</td>\n",
       "      <td>virginica</td>\n",
       "    </tr>\n",
       "    <tr>\n",
       "      <th>147</th>\n",
       "      <td>6.5</td>\n",
       "      <td>3.0</td>\n",
       "      <td>5.2</td>\n",
       "      <td>2.0</td>\n",
       "      <td>virginica</td>\n",
       "    </tr>\n",
       "    <tr>\n",
       "      <th>148</th>\n",
       "      <td>6.2</td>\n",
       "      <td>3.4</td>\n",
       "      <td>5.4</td>\n",
       "      <td>2.3</td>\n",
       "      <td>virginica</td>\n",
       "    </tr>\n",
       "    <tr>\n",
       "      <th>149</th>\n",
       "      <td>5.9</td>\n",
       "      <td>3.0</td>\n",
       "      <td>5.1</td>\n",
       "      <td>1.8</td>\n",
       "      <td>virginica</td>\n",
       "    </tr>\n",
       "  </tbody>\n",
       "</table>\n",
       "<p>150 rows × 5 columns</p>\n",
       "</div>"
      ],
      "text/plain": [
       "     sepal_length  sepal_width  petal_length  petal_width    species\n",
       "0             5.1          3.5           1.4          0.2     setosa\n",
       "1             4.9          3.0           1.4          0.2     setosa\n",
       "2             4.7          3.2           1.3          0.2     setosa\n",
       "3             4.6          3.1           1.5          0.2     setosa\n",
       "4             5.0          3.6           1.4          0.2     setosa\n",
       "..            ...          ...           ...          ...        ...\n",
       "145           6.7          3.0           5.2          2.3  virginica\n",
       "146           6.3          2.5           5.0          1.9  virginica\n",
       "147           6.5          3.0           5.2          2.0  virginica\n",
       "148           6.2          3.4           5.4          2.3  virginica\n",
       "149           5.9          3.0           5.1          1.8  virginica\n",
       "\n",
       "[150 rows x 5 columns]"
      ]
     },
     "execution_count": 5,
     "metadata": {},
     "output_type": "execute_result"
    }
   ],
   "source": [
    "# Load the context, then load and examine our training set from the catalog \n",
    "my_context = session.load_context()\n",
    "my_context.io.load(\"example_iris_data\")"
   ]
  },
  {
   "cell_type": "code",
   "execution_count": 2,
   "id": "6458e00d",
   "metadata": {},
   "outputs": [
    {
     "name": "stdout",
     "output_type": "stream",
     "text": [
      "2021-08-08 14:59:27,505 - root - INFO - ** Kedro project kedro_iris_ml_ops\n",
      "2021-08-08 14:59:27,556 - kedro.io.data_catalog - INFO - Loading data from `example_iris_data` (CSVDataSet)...\n",
      "2021-08-08 14:59:27,576 - kedro.io.data_catalog - INFO - Loading data from `params:example_test_data_ratio` (MemoryDataSet)...\n",
      "2021-08-08 14:59:27,578 - kedro.pipeline.node - INFO - Running node: split: split_data([example_iris_data,params:example_test_data_ratio]) -> [example_test_x,example_test_y,example_train_x,example_train_y]\n",
      "2021-08-08 14:59:27,621 - kedro.io.data_catalog - INFO - Saving data to `example_train_x` (MemoryDataSet)...\n",
      "2021-08-08 14:59:27,623 - kedro.io.data_catalog - INFO - Saving data to `example_train_y` (MemoryDataSet)...\n",
      "2021-08-08 14:59:27,626 - kedro.io.data_catalog - INFO - Saving data to `example_test_x` (MemoryDataSet)...\n",
      "2021-08-08 14:59:27,630 - kedro.io.data_catalog - INFO - Saving data to `example_test_y` (MemoryDataSet)...\n",
      "2021-08-08 14:59:27,636 - kedro.runner.sequential_runner - INFO - Completed 1 out of 4 tasks\n",
      "2021-08-08 14:59:27,638 - kedro.io.data_catalog - INFO - Loading data from `example_train_x` (MemoryDataSet)...\n",
      "2021-08-08 14:59:27,642 - kedro.io.data_catalog - INFO - Loading data from `example_train_y` (MemoryDataSet)...\n",
      "2021-08-08 14:59:27,651 - kedro.io.data_catalog - INFO - Loading data from `parameters` (MemoryDataSet)...\n",
      "2021-08-08 14:59:27,655 - kedro.pipeline.node - INFO - Running node: train: train_model([example_train_x,example_train_y,parameters]) -> [example_model]\n",
      "2021-08-08 14:59:28,141 - kedro.io.data_catalog - INFO - Saving data to `example_model` (PickleDataSet)...\n",
      "2021-08-08 14:59:28,149 - kedro.runner.sequential_runner - INFO - Completed 2 out of 4 tasks\n",
      "2021-08-08 14:59:28,150 - kedro.io.data_catalog - INFO - Loading data from `example_model` (PickleDataSet)...\n",
      "2021-08-08 14:59:28,154 - kedro.io.data_catalog - INFO - Loading data from `example_test_x` (MemoryDataSet)...\n",
      "2021-08-08 14:59:28,157 - kedro.pipeline.node - INFO - Running node: predict: predict([example_model,example_test_x]) -> [example_predictions]\n",
      "2021-08-08 14:59:28,161 - kedro.io.data_catalog - INFO - Saving data to `example_predictions` (MemoryDataSet)...\n",
      "2021-08-08 14:59:28,171 - kedro.runner.sequential_runner - INFO - Completed 3 out of 4 tasks\n",
      "2021-08-08 14:59:28,175 - kedro.io.data_catalog - INFO - Loading data from `example_predictions` (MemoryDataSet)...\n",
      "2021-08-08 14:59:28,177 - kedro.io.data_catalog - INFO - Loading data from `example_test_y` (MemoryDataSet)...\n",
      "2021-08-08 14:59:28,191 - kedro.pipeline.node - INFO - Running node: report: report_accuracy([example_predictions,example_test_y]) -> None\n",
      "2021-08-08 14:59:28,200 - kedro_iris_ml_ops.pipelines.data_science.nodes - INFO - Model accuracy on test set: 100.00%\n",
      "2021-08-08 14:59:28,204 - kedro.runner.sequential_runner - INFO - Completed 4 out of 4 tasks\n",
      "2021-08-08 14:59:28,208 - kedro.runner.sequential_runner - INFO - Pipeline execution completed successfully.\n"
     ]
    },
    {
     "data": {
      "text/plain": [
       "{}"
      ]
     },
     "execution_count": 2,
     "metadata": {},
     "output_type": "execute_result"
    }
   ],
   "source": [
    "# Run the training pipeline\n",
    "session.run(pipeline_name=\"train\")"
   ]
  },
  {
   "cell_type": "code",
   "execution_count": 7,
   "id": "61c3fe3b",
   "metadata": {},
   "outputs": [
    {
     "data": {
      "text/html": [
       "<div>\n",
       "<style scoped>\n",
       "    .dataframe tbody tr th:only-of-type {\n",
       "        vertical-align: middle;\n",
       "    }\n",
       "\n",
       "    .dataframe tbody tr th {\n",
       "        vertical-align: top;\n",
       "    }\n",
       "\n",
       "    .dataframe thead th {\n",
       "        text-align: right;\n",
       "    }\n",
       "</style>\n",
       "<table border=\"1\" class=\"dataframe\">\n",
       "  <thead>\n",
       "    <tr style=\"text-align: right;\">\n",
       "      <th></th>\n",
       "      <th>sepal_length</th>\n",
       "      <th>sepal_width</th>\n",
       "      <th>petal_length</th>\n",
       "      <th>petal_width</th>\n",
       "    </tr>\n",
       "  </thead>\n",
       "  <tbody>\n",
       "    <tr>\n",
       "      <th>0</th>\n",
       "      <td>5.1</td>\n",
       "      <td>3.2</td>\n",
       "      <td>1.3</td>\n",
       "      <td>0.2</td>\n",
       "    </tr>\n",
       "    <tr>\n",
       "      <th>1</th>\n",
       "      <td>5.0</td>\n",
       "      <td>3.3</td>\n",
       "      <td>1.3</td>\n",
       "      <td>0.2</td>\n",
       "    </tr>\n",
       "    <tr>\n",
       "      <th>2</th>\n",
       "      <td>4.5</td>\n",
       "      <td>3.5</td>\n",
       "      <td>1.4</td>\n",
       "      <td>0.2</td>\n",
       "    </tr>\n",
       "    <tr>\n",
       "      <th>3</th>\n",
       "      <td>4.8</td>\n",
       "      <td>3.7</td>\n",
       "      <td>1.4</td>\n",
       "      <td>0.2</td>\n",
       "    </tr>\n",
       "    <tr>\n",
       "      <th>4</th>\n",
       "      <td>6.2</td>\n",
       "      <td>3.2</td>\n",
       "      <td>5.2</td>\n",
       "      <td>2.0</td>\n",
       "    </tr>\n",
       "    <tr>\n",
       "      <th>5</th>\n",
       "      <td>1.0</td>\n",
       "      <td>1.0</td>\n",
       "      <td>1.0</td>\n",
       "      <td>1.0</td>\n",
       "    </tr>\n",
       "  </tbody>\n",
       "</table>\n",
       "</div>"
      ],
      "text/plain": [
       "   sepal_length  sepal_width  petal_length  petal_width\n",
       "0           5.1          3.2           1.3          0.2\n",
       "1           5.0          3.3           1.3          0.2\n",
       "2           4.5          3.5           1.4          0.2\n",
       "3           4.8          3.7           1.4          0.2\n",
       "4           6.2          3.2           5.2          2.0\n",
       "5           1.0          1.0           1.0          1.0"
      ]
     },
     "execution_count": 7,
     "metadata": {},
     "output_type": "execute_result"
    }
   ],
   "source": [
    "import pandas as pd\n",
    "from kedro.framework.session import KedroSession\n",
    "\n",
    "# Create a pandas dataframe with new observations to predict\n",
    "predict_input = pd.DataFrame({\n",
    "    \"sepal_length\": [5.1, 5.0, 4.5, 4.8, 6.2, 1],\n",
    "    \"sepal_width\" : [3.2, 3.3, 3.5, 3.7, 3.2, 1],\n",
    "    \"petal_length\": [1.3, 1.3, 1.4, 1.4, 5.2, 1],\n",
    "    \"petal_width\": [0.2, 0.2, 0.2, 0.2, 2.0, 1]\n",
    "})\n",
    "\n",
    "predict_input"
   ]
  },
  {
   "cell_type": "code",
   "execution_count": 11,
   "id": "91cef2fe",
   "metadata": {},
   "outputs": [
    {
     "name": "stdout",
     "output_type": "stream",
     "text": [
      "2021-08-08 15:05:04,079 - kedro.framework.session.store - INFO - `save()` not implemented for `BaseSessionStore`. Skipping the step.\n",
      "2021-08-08 15:05:04,206 - kedro.framework.session.store - INFO - `read()` not implemented for `BaseSessionStore`. Assuming empty store.\n",
      "2021-08-08 15:05:04,257 - root - INFO - ** Kedro project kedro_iris_ml_ops\n",
      "2021-08-08 15:05:04,275 - kedro.io.data_catalog - INFO - Loading data from `params:prediction_input` (MemoryDataSet)...\n",
      "2021-08-08 15:05:04,277 - kedro.pipeline.node - INFO - Running node: predict_input_validation([params:prediction_input]) -> [predict_df]\n",
      "2021-08-08 15:05:04,282 - kedro.io.data_catalog - INFO - Saving data to `predict_df` (MemoryDataSet)...\n",
      "2021-08-08 15:05:04,284 - kedro.runner.sequential_runner - INFO - Completed 1 out of 2 tasks\n",
      "2021-08-08 15:05:04,288 - kedro.io.data_catalog - INFO - Loading data from `example_model` (PickleDataSet)...\n",
      "2021-08-08 15:05:04,293 - kedro.io.data_catalog - INFO - Loading data from `predict_df` (MemoryDataSet)...\n",
      "2021-08-08 15:05:04,297 - kedro.pipeline.node - INFO - Running node: predict: predict([example_model,predict_df]) -> [predictions]\n",
      "2021-08-08 15:05:04,301 - kedro.io.data_catalog - INFO - Saving data to `predictions` (PickleDataSet)...\n",
      "2021-08-08 15:05:04,313 - kedro.runner.sequential_runner - INFO - Completed 2 out of 2 tasks\n",
      "2021-08-08 15:05:04,315 - kedro.runner.sequential_runner - INFO - Pipeline execution completed successfully.\n",
      "2021-08-08 15:05:04,319 - kedro.framework.session.store - INFO - `save()` not implemented for `BaseSessionStore`. Skipping the step.\n"
     ]
    }
   ],
   "source": [
    "# Close an existing session\n",
    "session.close()\n",
    "\n",
    "# Execute our prediction pipeline on new data:\n",
    "with KedroSession.create(package_name=\"kedro_iris_ml_ops\", project_path=\"../\", extra_params={\"prediction_input\": predict_input}) as session:\n",
    "    \n",
    "    session.run(pipeline_name=\"predict\")"
   ]
  },
  {
   "cell_type": "code",
   "execution_count": 12,
   "id": "d07fa3e6",
   "metadata": {},
   "outputs": [
    {
     "name": "stdout",
     "output_type": "stream",
     "text": [
      "2021-08-08 15:06:17,244 - kedro.io.data_catalog - INFO - Loading data from `predictions` (PickleDataSet)...\n"
     ]
    },
    {
     "data": {
      "text/plain": [
       "array([0, 0, 0, 0, 2, 2])"
      ]
     },
     "execution_count": 12,
     "metadata": {},
     "output_type": "execute_result"
    }
   ],
   "source": [
    "# Extract predictions from our catalog\n",
    "session.load_context().catalog.load(\"predictions\")"
   ]
  }
 ],
 "metadata": {
  "kernelspec": {
   "display_name": "kedro_iris_ml_ops",
   "language": "python",
   "name": "python3"
  },
  "language_info": {
   "codemirror_mode": {
    "name": "ipython",
    "version": 3
   },
   "file_extension": ".py",
   "mimetype": "text/x-python",
   "name": "python",
   "nbconvert_exporter": "python",
   "pygments_lexer": "ipython3",
   "version": "3.8.11"
  }
 },
 "nbformat": 4,
 "nbformat_minor": 5
}
