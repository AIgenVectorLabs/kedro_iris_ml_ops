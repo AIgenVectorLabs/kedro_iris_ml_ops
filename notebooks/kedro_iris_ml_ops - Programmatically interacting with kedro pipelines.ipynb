{
 "cells": [
  {
   "cell_type": "markdown",
   "id": "207a9878",
   "metadata": {},
   "source": [
    "# Project: kedro_iris_ml_ops\n",
    "\n",
    "### Author: Dale Jacques\n",
    "### Contact: djacques@uwalumni.com\n",
    "### Repository: https://github.com/AIgenVectorLabs/kedro_iris_ml_ops\n",
    "#### Description: This notebook demonstrates concepts like the Kedro \"Session\", \"Context\", and \"Catalog\" that will be required when deploying our model into production. Specifically, it shows how a Kedro pipeline can be parameterized, run, and results can be extracted. "
   ]
  },
  {
   "cell_type": "code",
   "execution_count": 1,
   "id": "0a6bdcdd",
   "metadata": {},
   "outputs": [
    {
     "name": "stdout",
     "output_type": "stream",
     "text": [
      "2021-08-08 19:04:07,164 - kedro.io.data_catalog - INFO - Loading data from `iris_data` (CSVDataSet)...\n"
     ]
    },
    {
     "name": "stderr",
     "output_type": "stream",
     "text": [
      "/Users/djacques/miniconda3/envs/kedro_iris_ml_ops/lib/python3.8/site-packages/kedro/framework/context/context.py:59: DeprecationWarning: Accessing io via the context will be deprecated in Kedro 0.18.0.\n",
      "  warn(\n"
     ]
    },
    {
     "data": {
      "text/html": [
       "<div>\n",
       "<style scoped>\n",
       "    .dataframe tbody tr th:only-of-type {\n",
       "        vertical-align: middle;\n",
       "    }\n",
       "\n",
       "    .dataframe tbody tr th {\n",
       "        vertical-align: top;\n",
       "    }\n",
       "\n",
       "    .dataframe thead th {\n",
       "        text-align: right;\n",
       "    }\n",
       "</style>\n",
       "<table border=\"1\" class=\"dataframe\">\n",
       "  <thead>\n",
       "    <tr style=\"text-align: right;\">\n",
       "      <th></th>\n",
       "      <th>sepal_length</th>\n",
       "      <th>sepal_width</th>\n",
       "      <th>petal_length</th>\n",
       "      <th>petal_width</th>\n",
       "      <th>species</th>\n",
       "    </tr>\n",
       "  </thead>\n",
       "  <tbody>\n",
       "    <tr>\n",
       "      <th>0</th>\n",
       "      <td>5.1</td>\n",
       "      <td>3.5</td>\n",
       "      <td>1.4</td>\n",
       "      <td>0.2</td>\n",
       "      <td>setosa</td>\n",
       "    </tr>\n",
       "    <tr>\n",
       "      <th>1</th>\n",
       "      <td>4.9</td>\n",
       "      <td>3.0</td>\n",
       "      <td>1.4</td>\n",
       "      <td>0.2</td>\n",
       "      <td>setosa</td>\n",
       "    </tr>\n",
       "    <tr>\n",
       "      <th>2</th>\n",
       "      <td>4.7</td>\n",
       "      <td>3.2</td>\n",
       "      <td>1.3</td>\n",
       "      <td>0.2</td>\n",
       "      <td>setosa</td>\n",
       "    </tr>\n",
       "    <tr>\n",
       "      <th>3</th>\n",
       "      <td>4.6</td>\n",
       "      <td>3.1</td>\n",
       "      <td>1.5</td>\n",
       "      <td>0.2</td>\n",
       "      <td>setosa</td>\n",
       "    </tr>\n",
       "    <tr>\n",
       "      <th>4</th>\n",
       "      <td>5.0</td>\n",
       "      <td>3.6</td>\n",
       "      <td>1.4</td>\n",
       "      <td>0.2</td>\n",
       "      <td>setosa</td>\n",
       "    </tr>\n",
       "    <tr>\n",
       "      <th>...</th>\n",
       "      <td>...</td>\n",
       "      <td>...</td>\n",
       "      <td>...</td>\n",
       "      <td>...</td>\n",
       "      <td>...</td>\n",
       "    </tr>\n",
       "    <tr>\n",
       "      <th>145</th>\n",
       "      <td>6.7</td>\n",
       "      <td>3.0</td>\n",
       "      <td>5.2</td>\n",
       "      <td>2.3</td>\n",
       "      <td>virginica</td>\n",
       "    </tr>\n",
       "    <tr>\n",
       "      <th>146</th>\n",
       "      <td>6.3</td>\n",
       "      <td>2.5</td>\n",
       "      <td>5.0</td>\n",
       "      <td>1.9</td>\n",
       "      <td>virginica</td>\n",
       "    </tr>\n",
       "    <tr>\n",
       "      <th>147</th>\n",
       "      <td>6.5</td>\n",
       "      <td>3.0</td>\n",
       "      <td>5.2</td>\n",
       "      <td>2.0</td>\n",
       "      <td>virginica</td>\n",
       "    </tr>\n",
       "    <tr>\n",
       "      <th>148</th>\n",
       "      <td>6.2</td>\n",
       "      <td>3.4</td>\n",
       "      <td>5.4</td>\n",
       "      <td>2.3</td>\n",
       "      <td>virginica</td>\n",
       "    </tr>\n",
       "    <tr>\n",
       "      <th>149</th>\n",
       "      <td>5.9</td>\n",
       "      <td>3.0</td>\n",
       "      <td>5.1</td>\n",
       "      <td>1.8</td>\n",
       "      <td>virginica</td>\n",
       "    </tr>\n",
       "  </tbody>\n",
       "</table>\n",
       "<p>150 rows × 5 columns</p>\n",
       "</div>"
      ],
      "text/plain": [
       "     sepal_length  sepal_width  petal_length  petal_width    species\n",
       "0             5.1          3.5           1.4          0.2     setosa\n",
       "1             4.9          3.0           1.4          0.2     setosa\n",
       "2             4.7          3.2           1.3          0.2     setosa\n",
       "3             4.6          3.1           1.5          0.2     setosa\n",
       "4             5.0          3.6           1.4          0.2     setosa\n",
       "..            ...          ...           ...          ...        ...\n",
       "145           6.7          3.0           5.2          2.3  virginica\n",
       "146           6.3          2.5           5.0          1.9  virginica\n",
       "147           6.5          3.0           5.2          2.0  virginica\n",
       "148           6.2          3.4           5.4          2.3  virginica\n",
       "149           5.9          3.0           5.1          1.8  virginica\n",
       "\n",
       "[150 rows x 5 columns]"
      ]
     },
     "execution_count": 1,
     "metadata": {},
     "output_type": "execute_result"
    }
   ],
   "source": [
    "# Load the context, then load and examine our training set from the catalog \n",
    "my_context = session.load_context()\n",
    "my_context.io.load(\"iris_data\")"
   ]
  },
  {
   "cell_type": "code",
   "execution_count": 2,
   "id": "6458e00d",
   "metadata": {},
   "outputs": [
    {
     "name": "stdout",
     "output_type": "stream",
     "text": [
      "2021-08-08 19:04:07,237 - root - INFO - ** Kedro project kedro_iris_ml_ops\n",
      "2021-08-08 19:04:07,679 - kedro.io.data_catalog - INFO - Loading data from `iris_data` (CSVDataSet)...\n",
      "2021-08-08 19:04:07,683 - kedro.io.data_catalog - INFO - Loading data from `params:test_data_ratio` (MemoryDataSet)...\n",
      "2021-08-08 19:04:07,684 - kedro.pipeline.node - INFO - Running node: split: split_data([iris_data,params:test_data_ratio]) -> [test_x,test_y,train_x,train_y]\n",
      "2021-08-08 19:04:07,703 - kedro.io.data_catalog - INFO - Saving data to `train_x` (MemoryDataSet)...\n",
      "2021-08-08 19:04:07,709 - kedro.io.data_catalog - INFO - Saving data to `train_y` (MemoryDataSet)...\n",
      "2021-08-08 19:04:07,712 - kedro.io.data_catalog - INFO - Saving data to `test_x` (MemoryDataSet)...\n",
      "2021-08-08 19:04:07,715 - kedro.io.data_catalog - INFO - Saving data to `test_y` (MemoryDataSet)...\n",
      "2021-08-08 19:04:07,723 - kedro.runner.sequential_runner - INFO - Completed 1 out of 7 tasks\n",
      "2021-08-08 19:04:07,731 - kedro.io.data_catalog - INFO - Loading data from `train_x` (MemoryDataSet)...\n",
      "2021-08-08 19:04:07,737 - kedro.pipeline.node - INFO - Running node: train_standard_scaler([train_x]) -> [scaler]\n",
      "2021-08-08 19:04:07,742 - kedro.io.data_catalog - INFO - Saving data to `scaler` (PickleDataSet)...\n",
      "2021-08-08 19:04:07,750 - kedro.runner.sequential_runner - INFO - Completed 2 out of 7 tasks\n",
      "2021-08-08 19:04:07,755 - kedro.io.data_catalog - INFO - Loading data from `train_x` (MemoryDataSet)...\n",
      "2021-08-08 19:04:07,761 - kedro.io.data_catalog - INFO - Loading data from `scaler` (PickleDataSet)...\n",
      "2021-08-08 19:04:07,765 - kedro.pipeline.node - INFO - Running node: apply_standard_scaler([scaler,train_x]) -> [scaled_train_x]\n",
      "2021-08-08 19:04:07,774 - kedro.io.data_catalog - INFO - Saving data to `scaled_train_x` (MemoryDataSet)...\n",
      "2021-08-08 19:04:07,779 - kedro.runner.sequential_runner - INFO - Completed 3 out of 7 tasks\n",
      "2021-08-08 19:04:07,783 - kedro.io.data_catalog - INFO - Loading data from `test_x` (MemoryDataSet)...\n",
      "2021-08-08 19:04:07,788 - kedro.io.data_catalog - INFO - Loading data from `scaler` (PickleDataSet)...\n",
      "2021-08-08 19:04:07,796 - kedro.pipeline.node - INFO - Running node: apply_standard_scaler([scaler,test_x]) -> [scaled_test_x]\n",
      "2021-08-08 19:04:07,812 - kedro.io.data_catalog - INFO - Saving data to `scaled_test_x` (MemoryDataSet)...\n",
      "2021-08-08 19:04:07,825 - kedro.runner.sequential_runner - INFO - Completed 4 out of 7 tasks\n",
      "2021-08-08 19:04:07,828 - kedro.io.data_catalog - INFO - Loading data from `scaled_train_x` (MemoryDataSet)...\n",
      "2021-08-08 19:04:07,830 - kedro.io.data_catalog - INFO - Loading data from `train_y` (MemoryDataSet)...\n",
      "2021-08-08 19:04:07,832 - kedro.io.data_catalog - INFO - Loading data from `parameters` (MemoryDataSet)...\n",
      "2021-08-08 19:04:07,834 - kedro.pipeline.node - INFO - Running node: train_model: train_model([parameters,scaled_train_x,train_y]) -> [model]\n",
      "2021-08-08 19:04:08,326 - kedro.io.data_catalog - INFO - Saving data to `model` (PickleDataSet)...\n",
      "2021-08-08 19:04:08,329 - kedro.runner.sequential_runner - INFO - Completed 5 out of 7 tasks\n",
      "2021-08-08 19:04:08,331 - kedro.io.data_catalog - INFO - Loading data from `model` (PickleDataSet)...\n",
      "2021-08-08 19:04:08,334 - kedro.io.data_catalog - INFO - Loading data from `scaled_test_x` (MemoryDataSet)...\n",
      "2021-08-08 19:04:08,337 - kedro.pipeline.node - INFO - Running node: predict: predict([model,scaled_test_x]) -> [test_predictions]\n",
      "2021-08-08 19:04:08,345 - kedro.io.data_catalog - INFO - Saving data to `test_predictions` (MemoryDataSet)...\n",
      "2021-08-08 19:04:08,353 - kedro.runner.sequential_runner - INFO - Completed 6 out of 7 tasks\n",
      "2021-08-08 19:04:08,361 - kedro.io.data_catalog - INFO - Loading data from `test_predictions` (MemoryDataSet)...\n",
      "2021-08-08 19:04:08,365 - kedro.io.data_catalog - INFO - Loading data from `test_y` (MemoryDataSet)...\n",
      "2021-08-08 19:04:08,371 - kedro.pipeline.node - INFO - Running node: report_accuracy: report_accuracy([test_predictions,test_y]) -> None\n",
      "2021-08-08 19:04:08,377 - kedro_iris_ml_ops.pipelines.data_science.nodes - INFO - Model accuracy on test set: 96.67%\n",
      "2021-08-08 19:04:08,382 - kedro.runner.sequential_runner - INFO - Completed 7 out of 7 tasks\n",
      "2021-08-08 19:04:08,384 - kedro.runner.sequential_runner - INFO - Pipeline execution completed successfully.\n"
     ]
    },
    {
     "data": {
      "text/plain": [
       "{}"
      ]
     },
     "execution_count": 2,
     "metadata": {},
     "output_type": "execute_result"
    }
   ],
   "source": [
    "# Run the training pipeline\n",
    "session.run(pipeline_name=\"train\")"
   ]
  },
  {
   "cell_type": "code",
   "execution_count": 3,
   "id": "61c3fe3b",
   "metadata": {},
   "outputs": [
    {
     "data": {
      "text/html": [
       "<div>\n",
       "<style scoped>\n",
       "    .dataframe tbody tr th:only-of-type {\n",
       "        vertical-align: middle;\n",
       "    }\n",
       "\n",
       "    .dataframe tbody tr th {\n",
       "        vertical-align: top;\n",
       "    }\n",
       "\n",
       "    .dataframe thead th {\n",
       "        text-align: right;\n",
       "    }\n",
       "</style>\n",
       "<table border=\"1\" class=\"dataframe\">\n",
       "  <thead>\n",
       "    <tr style=\"text-align: right;\">\n",
       "      <th></th>\n",
       "      <th>sepal_length</th>\n",
       "      <th>sepal_width</th>\n",
       "      <th>petal_length</th>\n",
       "      <th>petal_width</th>\n",
       "    </tr>\n",
       "  </thead>\n",
       "  <tbody>\n",
       "    <tr>\n",
       "      <th>0</th>\n",
       "      <td>5.1</td>\n",
       "      <td>3.2</td>\n",
       "      <td>1.3</td>\n",
       "      <td>0.2</td>\n",
       "    </tr>\n",
       "    <tr>\n",
       "      <th>1</th>\n",
       "      <td>5.0</td>\n",
       "      <td>3.3</td>\n",
       "      <td>1.3</td>\n",
       "      <td>0.2</td>\n",
       "    </tr>\n",
       "    <tr>\n",
       "      <th>2</th>\n",
       "      <td>4.5</td>\n",
       "      <td>3.5</td>\n",
       "      <td>1.4</td>\n",
       "      <td>0.2</td>\n",
       "    </tr>\n",
       "    <tr>\n",
       "      <th>3</th>\n",
       "      <td>4.8</td>\n",
       "      <td>3.7</td>\n",
       "      <td>1.4</td>\n",
       "      <td>0.2</td>\n",
       "    </tr>\n",
       "    <tr>\n",
       "      <th>4</th>\n",
       "      <td>6.2</td>\n",
       "      <td>3.2</td>\n",
       "      <td>5.2</td>\n",
       "      <td>2.0</td>\n",
       "    </tr>\n",
       "    <tr>\n",
       "      <th>5</th>\n",
       "      <td>1.0</td>\n",
       "      <td>1.0</td>\n",
       "      <td>1.0</td>\n",
       "      <td>1.0</td>\n",
       "    </tr>\n",
       "  </tbody>\n",
       "</table>\n",
       "</div>"
      ],
      "text/plain": [
       "   sepal_length  sepal_width  petal_length  petal_width\n",
       "0           5.1          3.2           1.3          0.2\n",
       "1           5.0          3.3           1.3          0.2\n",
       "2           4.5          3.5           1.4          0.2\n",
       "3           4.8          3.7           1.4          0.2\n",
       "4           6.2          3.2           5.2          2.0\n",
       "5           1.0          1.0           1.0          1.0"
      ]
     },
     "execution_count": 3,
     "metadata": {},
     "output_type": "execute_result"
    }
   ],
   "source": [
    "import pandas as pd\n",
    "from kedro.framework.session import KedroSession\n",
    "\n",
    "# Create a pandas dataframe with new observations to predict\n",
    "predict_input = pd.DataFrame({\n",
    "    \"sepal_length\": [5.1, 5.0, 4.5, 4.8, 6.2, 1],\n",
    "    \"sepal_width\" : [3.2, 3.3, 3.5, 3.7, 3.2, 1],\n",
    "    \"petal_length\": [1.3, 1.3, 1.4, 1.4, 5.2, 1],\n",
    "    \"petal_width\": [0.2, 0.2, 0.2, 0.2, 2.0, 1]\n",
    "})\n",
    "\n",
    "predict_input"
   ]
  },
  {
   "cell_type": "code",
   "execution_count": 4,
   "id": "91cef2fe",
   "metadata": {},
   "outputs": [
    {
     "name": "stdout",
     "output_type": "stream",
     "text": [
      "2021-08-08 19:04:08,439 - kedro.framework.session.store - INFO - `save()` not implemented for `BaseSessionStore`. Skipping the step.\n",
      "2021-08-08 19:04:08,758 - kedro.framework.session.store - INFO - `read()` not implemented for `BaseSessionStore`. Assuming empty store.\n",
      "2021-08-08 19:04:08,825 - root - INFO - ** Kedro project kedro_iris_ml_ops\n",
      "2021-08-08 19:04:08,861 - kedro.io.data_catalog - INFO - Loading data from `params:prediction_input` (MemoryDataSet)...\n",
      "2021-08-08 19:04:08,862 - kedro.pipeline.node - INFO - Running node: predict_input_validation([params:prediction_input]) -> [predict_df]\n",
      "2021-08-08 19:04:08,869 - kedro.io.data_catalog - INFO - Saving data to `predict_df` (MemoryDataSet)...\n",
      "2021-08-08 19:04:08,879 - kedro.runner.sequential_runner - INFO - Completed 1 out of 3 tasks\n",
      "2021-08-08 19:04:08,885 - kedro.io.data_catalog - INFO - Loading data from `predict_df` (MemoryDataSet)...\n",
      "2021-08-08 19:04:08,893 - kedro.io.data_catalog - INFO - Loading data from `scaler` (PickleDataSet)...\n",
      "2021-08-08 19:04:08,896 - kedro.pipeline.node - INFO - Running node: apply_standard_scaler([predict_df,scaler]) -> [scaled_predict_df]\n",
      "2021-08-08 19:04:08,914 - kedro.io.data_catalog - INFO - Saving data to `scaled_predict_df` (MemoryDataSet)...\n",
      "2021-08-08 19:04:08,922 - kedro.runner.sequential_runner - INFO - Completed 2 out of 3 tasks\n",
      "2021-08-08 19:04:08,934 - kedro.io.data_catalog - INFO - Loading data from `model` (PickleDataSet)...\n",
      "2021-08-08 19:04:08,945 - kedro.io.data_catalog - INFO - Loading data from `scaled_predict_df` (MemoryDataSet)...\n",
      "2021-08-08 19:04:08,951 - kedro.pipeline.node - INFO - Running node: predict: predict([model,scaled_predict_df]) -> [predictions]\n",
      "2021-08-08 19:04:08,965 - kedro.io.data_catalog - INFO - Saving data to `predictions` (PickleDataSet)...\n",
      "2021-08-08 19:04:08,976 - kedro.runner.sequential_runner - INFO - Completed 3 out of 3 tasks\n",
      "2021-08-08 19:04:08,990 - kedro.runner.sequential_runner - INFO - Pipeline execution completed successfully.\n",
      "2021-08-08 19:04:08,997 - kedro.framework.session.store - INFO - `save()` not implemented for `BaseSessionStore`. Skipping the step.\n"
     ]
    }
   ],
   "source": [
    "# Close an existing session\n",
    "session.close()\n",
    "\n",
    "# Execute our prediction pipeline on new data:\n",
    "with KedroSession.create(package_name=\"kedro_iris_ml_ops\", project_path=\"../\", extra_params={\"prediction_input\": predict_input}) as session:\n",
    "    \n",
    "    session.run(pipeline_name=\"predict\")"
   ]
  },
  {
   "cell_type": "code",
   "execution_count": 5,
   "id": "d07fa3e6",
   "metadata": {},
   "outputs": [
    {
     "name": "stdout",
     "output_type": "stream",
     "text": [
      "2021-08-08 19:04:09,066 - kedro.io.data_catalog - INFO - Loading data from `predictions` (PickleDataSet)...\n"
     ]
    },
    {
     "data": {
      "text/plain": [
       "array([0, 0, 0, 0, 2, 1])"
      ]
     },
     "execution_count": 5,
     "metadata": {},
     "output_type": "execute_result"
    }
   ],
   "source": [
    "# Extract predictions from our catalog\n",
    "session.load_context().catalog.load(\"predictions\")"
   ]
  },
  {
   "cell_type": "code",
   "execution_count": null,
   "id": "835ecb7b",
   "metadata": {},
   "outputs": [],
   "source": []
  }
 ],
 "metadata": {
  "kernelspec": {
   "display_name": "kedro_iris_ml_ops",
   "language": "python",
   "name": "python3"
  },
  "language_info": {
   "codemirror_mode": {
    "name": "ipython",
    "version": 3
   },
   "file_extension": ".py",
   "mimetype": "text/x-python",
   "name": "python",
   "nbconvert_exporter": "python",
   "pygments_lexer": "ipython3",
   "version": "3.8.11"
  }
 },
 "nbformat": 4,
 "nbformat_minor": 5
}
